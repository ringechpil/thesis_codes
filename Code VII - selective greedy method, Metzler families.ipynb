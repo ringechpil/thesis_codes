{
 "cells": [
  {
   "cell_type": "markdown",
   "metadata": {},
   "source": [
    "Implementation of the selective greedy method to Metzler product families. The results of the corresponding numerical experiments are given on pages 65-67."
   ]
  },
  {
   "cell_type": "code",
   "execution_count": null,
   "metadata": {
    "collapsed": true
   },
   "outputs": [],
   "source": [
    "#Block 1: loading the packages\n",
    "import numpy as np\n",
    "from numpy.linalg import norm\n",
    "import time\n",
    "from scipy.sparse import rand"
   ]
  },
  {
   "cell_type": "code",
   "execution_count": null,
   "metadata": {
    "collapsed": true
   },
   "outputs": [],
   "source": [
    "#Block 2: function which generates a random integer from 0 to k-1\n",
    "rndm = lambda k: np.random.randint(k)"
   ]
  },
  {
   "cell_type": "code",
   "execution_count": null,
   "metadata": {
    "collapsed": true
   },
   "outputs": [],
   "source": [
    "#Block 3: setting the rounding and precision parameters\n",
    "prec = 8 #rounding parameter\n",
    "Eps = 10**(-prec)"
   ]
  },
  {
   "cell_type": "code",
   "execution_count": null,
   "metadata": {
    "collapsed": true
   },
   "outputs": [],
   "source": [
    "#Block 4: translative power method\n",
    "def pwrmthd(A):  \n",
    "    \n",
    "    dneg = np.diag(A)\n",
    "    if (dneg < 0).any():\n",
    "        h = abs(np.amin(dneg))\n",
    "    else:\n",
    "        h = 0\n",
    "    \n",
    "    A = A + (h+1)*np.identity(dim) #see the remark on the page 65\n",
    "    v0 = np.array([1 for i in xrange(dim)])\n",
    "    v1 = np.dot(A,v0)/float(norm(np.dot(A,v0)))\n",
    "    v1 = np.round(v1,prec)\n",
    "    while norm(v0-v1) > Eps*10:\n",
    "        v0 = v1\n",
    "        v1 = np.dot(A,v0)/float(norm(np.dot(A,v0)))\n",
    "        v1 = np.round(v1,prec)\n",
    "    return v1"
   ]
  },
  {
   "cell_type": "code",
   "execution_count": null,
   "metadata": {
    "collapsed": true
   },
   "outputs": [],
   "source": [
    "#Block 5: computing the spectral abscissa\n",
    "def leading(A):\n",
    "    \n",
    "    evals = np.linalg.eig(A)[0] #set of eigenvalues \n",
    "    return np.amax(np.real(evals)) #spectral abscissa"
   ]
  },
  {
   "cell_type": "code",
   "execution_count": null,
   "metadata": {
    "collapsed": true
   },
   "outputs": [],
   "source": [
    "#Block 6: generating the uncertainty set of full Metzler family \n",
    "def uncertainty_poz(k):\n",
    "    \n",
    "    v = [np.random.rand(dim,) for i in xrange(N)]\n",
    "    \n",
    "    for vec in v:\n",
    "        vec[k] = np.random.choice([vec[k],-vec[k]])\n",
    "    \n",
    "    return v"
   ]
  },
  {
   "cell_type": "code",
   "execution_count": null,
   "metadata": {
    "collapsed": true
   },
   "outputs": [],
   "source": [
    "#Block 7: generating the uncertainty set of sparse Metzler family\n",
    "def uncertainty_sparse(N):\n",
    "    ranrow = lambda: (rand(1,dim,density = np.random.uniform(a,b))).A\n",
    "    l = []\n",
    "    for i in xrange(N):\n",
    "        v = ranrow()\n",
    "        v = v.flatten()\n",
    "        l.append(v)\n",
    "    return l"
   ]
  },
  {
   "cell_type": "code",
   "execution_count": null,
   "metadata": {
    "collapsed": true
   },
   "outputs": [],
   "source": [
    "#Block 8: selective greedy method for maximization\n",
    "def selective_greedyMAX(A):\n",
    "    \n",
    "    Z = np.copy(A)\n",
    "    \n",
    "    count = 0 #the iteration counter\n",
    "    start = time.clock() #time counter\n",
    "\n",
    "    while True:\n",
    "        \n",
    "        v = pwrmthd(Z)\n",
    "        count += 1\n",
    "        change = False\n",
    "        \n",
    "        for i in xrange(dim):\n",
    "            \n",
    "            l = np.dot(Z[i],v)\n",
    "            l = np.round(l,prec)\n",
    "        \n",
    "            for x in F[i]: #finding the vec. from the prod. set which maximizes the dot prod.\n",
    "                prod = np.dot(x,v)\n",
    "                prod = np.round(prod,prec)\n",
    "                \n",
    "                if (prod > l) and (abs(prod - l) >= 1e-7): #see the Appendix\n",
    "                    # change (prod < l) for minimization\n",
    "                    l = prod\n",
    "                    Z[i] = x\n",
    "                    change = True\n",
    "            \n",
    "        if not change: #if no row was changed, we finish the procedure\n",
    "            break\n",
    "                \n",
    "    \n",
    "    run = np.round(time.clock() - start,2)\n",
    "    spect_abs = np.round(leading(Z),2)\n",
    "    \n",
    "    return spect_abs, count, run, (v > 0).all() \n",
    "    '''the last item checks if the final leading eigenvcetor is strictly positive; \n",
    "    omit it for minimizationn (see Section 3.6) '''"
   ]
  },
  {
   "cell_type": "code",
   "execution_count": null,
   "metadata": {
    "scrolled": true
   },
   "outputs": [],
   "source": [
    "#Block 9: running the code, for sparse case\n",
    "dim = 600 #setting the dimension\n",
    "N = 200 #setting the cardinality of the uncertainty sets\n",
    "(a,b) = (0.09,0.16) #setting the density\n",
    "F = [uncertainty_sparse(N) for i in xrange(dim)] #generating the product family F\n",
    "A = np.array([F[i][rndm(N)] for i in xrange(dim)]) #taking an arbitrary matrix from F\n",
    "G = selective_greedyMAX(A) #running the selective greedy method\n",
    "print G"
   ]
  }
 ],
 "metadata": {
  "kernelspec": {
   "display_name": "Python 2",
   "language": "python",
   "name": "python2"
  },
  "language_info": {
   "codemirror_mode": {
    "name": "ipython",
    "version": 2
   },
   "file_extension": ".py",
   "mimetype": "text/x-python",
   "name": "python",
   "nbconvert_exporter": "python",
   "pygments_lexer": "ipython2",
   "version": "2.7.13"
  }
 },
 "nbformat": 4,
 "nbformat_minor": 2
}
