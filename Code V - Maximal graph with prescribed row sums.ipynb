{
 "cells": [
  {
   "cell_type": "markdown",
   "metadata": {},
   "source": [
    "Optimizing the spectral radius of a graph, implementation. The corresponding numerical results are given on the page 49."
   ]
  },
  {
   "cell_type": "code",
   "execution_count": null,
   "metadata": {
    "collapsed": true
   },
   "outputs": [],
   "source": [
    "#Block 1: importing the packages\n",
    "import numpy as np\n",
    "from numpy.linalg import norm\n",
    "import time\n",
    "import random"
   ]
  },
  {
   "cell_type": "code",
   "execution_count": null,
   "metadata": {
    "collapsed": true
   },
   "outputs": [],
   "source": [
    "#Block 2: setting the rounding and precision parameters\n",
    "prec = 8 #rounding parameter\n",
    "Eps = 10**(-prec)"
   ]
  },
  {
   "cell_type": "code",
   "execution_count": null,
   "metadata": {
    "collapsed": true
   },
   "outputs": [],
   "source": [
    "#Block 3: solving the LP problem\n",
    "def lpsolve(v,ones):\n",
    "    \n",
    "    row = np.zeros(dim)\n",
    "    ind = np.argsort(v)[::-1]\n",
    "    ind = ind[:ones]\n",
    "    \n",
    "    row[ind] = 1\n",
    "    return row"
   ]
  },
  {
   "cell_type": "code",
   "execution_count": null,
   "metadata": {
    "collapsed": true
   },
   "outputs": [],
   "source": [
    "#Block 4: selective power method \n",
    "def pwrmthd(A):\n",
    "    A = A + np.identity(dim) #see the remark on page 28\n",
    "    v0 = np.array([1 for i in xrange(dim)]) #starting vector of all ones \n",
    "    v1 = np.dot(A,v0)/float(norm(np.dot(A,v0)))\n",
    "    v1 = np.round(v1,prec)\n",
    "    while norm(v0-v1) > Eps*10: #the precision parametar $\\varepsilon$ \n",
    "        v0 = v1\n",
    "        v1 = np.dot(A,v0)/float(norm(np.dot(A,v0)))\n",
    "    return np.round(v1,prec-1)"
   ]
  },
  {
   "cell_type": "code",
   "execution_count": null,
   "metadata": {
    "collapsed": true
   },
   "outputs": [],
   "source": [
    "#Block 5: computing the spectral radius\n",
    "def leading(A):\n",
    "    \n",
    "    evals = np.linalg.eig(A)[0]\n",
    "    \n",
    "    return np.amax(np.real(evals))"
   ]
  },
  {
   "cell_type": "code",
   "execution_count": null,
   "metadata": {
    "collapsed": true
   },
   "outputs": [],
   "source": [
    "#Block 6: generating a row of the matrix with prescribed row sum, i.e. number of ones\n",
    "def vecgen(ones):\n",
    "    \n",
    "    v = np.zeros(dim)\n",
    "    \n",
    "    ind = random.sample(range(dim),ones)\n",
    "    v[ind] = 1\n",
    "    \n",
    "    return v   "
   ]
  },
  {
   "cell_type": "code",
   "execution_count": null,
   "metadata": {
    "collapsed": true
   },
   "outputs": [],
   "source": [
    "#Block 7: finding the graph with maximal spectral radius\n",
    "def max_graph(): \n",
    "    \n",
    "    A = np.array([vecgen(F[i]) for i in xrange(dim)]) #generating the starting matrix\n",
    "    Z = np.copy(A)\n",
    "\n",
    "    \n",
    "    start = time.clock()\n",
    "    count = 0\n",
    "    \n",
    "    while True:\n",
    "        v = pwrmthd(A) #computing the leading e-vec\n",
    "        count += 1\n",
    "        \n",
    "        for i in xrange(dim): #solving the lp problems\n",
    "            a = lpsolve(v,F[i])\n",
    "            A[i] = a\n",
    "       \n",
    "    \n",
    "        if (A == Z).all(): #checking wether the new matrix is truly optimal\n",
    "            run = np.round(time.clock() - start,2)\n",
    "            spect = np.round(leading(Z),2)\n",
    "            return spect, count, run, (v > 0).all()\n",
    "        \n",
    "        else: \n",
    "            Z = np.copy(A)"
   ]
  },
  {
   "cell_type": "code",
   "execution_count": null,
   "metadata": {},
   "outputs": [],
   "source": [
    "#Block 8: running the code\n",
    "dim = 2000 #setting the dimension\n",
    "F = [np.random.choice(range(500,1750)) for i in xrange(dim)] #generating the row sum vector\n",
    "G = max_graph()\n",
    "print G"
   ]
  }
 ],
 "metadata": {
  "kernelspec": {
   "display_name": "Python 2",
   "language": "python",
   "name": "python2"
  },
  "language_info": {
   "codemirror_mode": {
    "name": "ipython",
    "version": 2
   },
   "file_extension": ".py",
   "mimetype": "text/x-python",
   "name": "python",
   "nbconvert_exporter": "python",
   "pygments_lexer": "ipython2",
   "version": "2.7.13"
  }
 },
 "nbformat": 4,
 "nbformat_minor": 2
}
