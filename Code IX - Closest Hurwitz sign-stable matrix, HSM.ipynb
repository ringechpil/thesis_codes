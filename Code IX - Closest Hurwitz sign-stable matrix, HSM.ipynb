{
 "cells": [
  {
   "cell_type": "markdown",
   "metadata": {},
   "source": [
    "Implementation of Algorithm HSM, presented on pages 89 and 90."
   ]
  },
  {
   "cell_type": "code",
   "execution_count": null,
   "metadata": {
    "collapsed": true
   },
   "outputs": [],
   "source": [
    "#Block 1: loading the packages\n",
    "import numpy as np\n",
    "import scipy as sc\n",
    "import random\n",
    "from scipy import linalg as la\n",
    "from numpy.linalg import norm\n",
    "import scipy.sparse as sparse\n",
    "from scipy.sparse import rand as rndma\n",
    "import time"
   ]
  },
  {
   "cell_type": "code",
   "execution_count": null,
   "metadata": {
    "collapsed": true
   },
   "outputs": [],
   "source": [
    "#Block 2: generating the rows of the starting sign-matrix \n",
    "def sparsevecgen(k):\n",
    "    \n",
    "    ones = np.random.choice(range(a,b))\n",
    "    ones *= dim/100.0\n",
    "    ones = int(np.trunc(ones))\n",
    "    \n",
    "    v = np.zeros(dim)\n",
    "    ind = range(dim)\n",
    "    random.shuffle(ind)\n",
    "    ind = ind[:ones]\n",
    "    v[ind] = 1\n",
    "    v[k] = np.random.choice([0,-v[k]])\n",
    "    \n",
    "    return v"
   ]
  },
  {
   "cell_type": "code",
   "execution_count": null,
   "metadata": {
    "collapsed": true
   },
   "outputs": [],
   "source": [
    "#Block 4: translative power method\n",
    "def pwrmthd(A):  \n",
    "    \n",
    "    dneg = np.diag(A)\n",
    "    if (dneg < 0).any():\n",
    "        h = abs(np.amin(dneg))\n",
    "    else:\n",
    "        h = 0\n",
    "    \n",
    "    A = A + (h+1)*np.identity(dim)\n",
    "    v0 = np.array([1 for i in xrange(dim)])\n",
    "    v1 = np.dot(A,v0)/float(norm(np.dot(A,v0)))\n",
    "    v1 = np.round(v1,prec)\n",
    "    while norm(v0-v1) > Eps*10:\n",
    "        v0 = v1\n",
    "        v1 = np.dot(A,v0)/float(norm(np.dot(A,v0)))\n",
    "        v1 = np.round(v1,prec-1)\n",
    "    return v1"
   ]
  },
  {
   "cell_type": "code",
   "execution_count": null,
   "metadata": {
    "collapsed": true
   },
   "outputs": [],
   "source": [
    "#Block 5: computing the spectral abscissa\n",
    "def leading(A):\n",
    "    \n",
    "    evals = np.linalg.eig(A)[0] #set of eigenvalues \n",
    "    return np.amax(np.real(evals)) #spectral abscissa"
   ]
  },
  {
   "cell_type": "code",
   "execution_count": null,
   "metadata": {
    "collapsed": true
   },
   "outputs": [],
   "source": [
    "#Block 6: a solution to the LP\n",
    "def lp_solution(A,v,supp,tau):\n",
    "    \n",
    "    D = len(supp)\n",
    "    X = np.copy(A)\n",
    "    \n",
    "    ind = np.argsort(v)[::-1] #reordering\n",
    "    ind = ind[:D]\n",
    "    \n",
    "    for i in xrange(dim): #constructing the solution\n",
    "        S = 0\n",
    "        for l in ind:\n",
    "            if (i != l):\n",
    "                S += A[i,l]\n",
    "                X[i,l] = 0\n",
    "            else:\n",
    "                if (X[i,i] == 1) and (S < tau - 1):\n",
    "                    S += 2\n",
    "                    X[i,i] = -1\n",
    "                elif (X[i,i] == 1) and (S == tau - 1):\n",
    "                    S += 1\n",
    "                    X[i,i] = 0\n",
    "                elif (X[i,i] == 0):\n",
    "                    S += 1\n",
    "                    X[i,i] = -1\n",
    "                \n",
    "            if (S == tau):\n",
    "                break          \n",
    "        \n",
    "    return np.round(X,prec)"
   ]
  },
  {
   "cell_type": "code",
   "execution_count": null,
   "metadata": {
    "collapsed": true
   },
   "outputs": [],
   "source": [
    "#Block 7: implementing the the greedy method for minimization on the ball \n",
    "#of radius k\n",
    "def selective_greedy(A,tau):\n",
    "    \n",
    "    X = np.copy(A)\n",
    "    v0 = pwrmthd(X) #computing the leading eigenvalue\n",
    "    supp = list(np.where(v0 != 0)[0]) #getting the support\n",
    "    notsupp = list(set(range(dim)) - set(supp))\n",
    "    notsupp.sort()\n",
    "\n",
    "    while True: #constructing the solution X_k\n",
    "        Z = np.copy(X)\n",
    "        v = v0\n",
    "        X = lp_solution(A,v,supp,tau)\n",
    "        X[notsupp] = Z[notsupp]\n",
    "        \n",
    "        for k in supp:\n",
    "            olddot = np.dot(Z[k],v)\n",
    "            newdot = np.dot(X[k],v)\n",
    "            olddot = np.round(olddot,prec)\n",
    "            newdot = np.round(newdot,prec)\n",
    "            if (olddot < newdot) or (abs(olddot - newdot) < 1e-6): #see the Appendix\n",
    "                X[k] = Z[k]\n",
    "        \n",
    "        v0 = pwrmthd(X)\n",
    "        spect_abs = np.round(leading(X),prec)\n",
    "        \n",
    "        '''if matrices of iterations k-1 and k match on the support, \n",
    "        OR if they have the same leading eigenvector, \n",
    "        OR if the spectral abscissa of X_k is negative\n",
    "        we finish the greedy method''' \n",
    "        if (X[supp] == Z[supp]).all() or (v == v0).all() or (spect_abs < 0):\n",
    "            return np.round(X,prec), spect_abs\n",
    "        else:\n",
    "            supp = list(np.where(v0 != 0)[0])\n",
    "            notsupp = list(set(range(dim)) - set(supp))\n",
    "            notsupp.sort()"
   ]
  },
  {
   "cell_type": "code",
   "execution_count": null,
   "metadata": {
    "collapsed": true
   },
   "outputs": [],
   "source": [
    "#Block 8: moving k forward and computing the maximal spectral abscissa\n",
    "#on the corresponding ball\n",
    "def forward(A,spectfin,k):\n",
    "    \n",
    "    while (spectfin > 0):\n",
    "        \n",
    "        if (spectfin > 6): \n",
    "            k += 2\n",
    "        else:\n",
    "            k += 1\n",
    "        \n",
    "        Xstar, spectfin = selective_greedy(A,k)\n",
    "        \n",
    "    \n",
    "    return Xstar, spectfin"
   ]
  },
  {
   "cell_type": "code",
   "execution_count": null,
   "metadata": {
    "collapsed": true
   },
   "outputs": [],
   "source": [
    "#Block 9: moving k backward and computing the maximal spectral \n",
    "#abscissa on the corresponding ball\n",
    "def backward(A,X,spect,k):\n",
    "    \n",
    "    while (spect <= 0):\n",
    "        print spect, k\n",
    "        Xstar = np.copy(X)\n",
    "        spectfin = spect\n",
    "        k -= 1\n",
    "        X, spect = selective_greedy(A,k)\n",
    "        \n",
    "    \n",
    "    return Xstar, spectfin"
   ]
  },
  {
   "cell_type": "code",
   "execution_count": null,
   "metadata": {
    "collapsed": true
   },
   "outputs": [],
   "source": [
    "#Block 10: the DFS algorithm, returning the upper triangular matrix with restored plus signs\n",
    "def the_tree(A,X):\n",
    "    \n",
    "    minus_diag = []\n",
    "    for i in xrange(dim):\n",
    "        if (X[i,i] == -1):\n",
    "            minus_diag.append(i)\n",
    "            X[i,i] = 0\n",
    "    \n",
    "    tree = []\n",
    "    vertices = [i for i in xrange(dim)]\n",
    "    ind = [i for i in xrange(dim)]\n",
    "    Aredux_col = np.copy(A)\n",
    "    Xredux_row = np.copy(X)\n",
    "    Xredux_col = np.copy(X)\n",
    "    \n",
    "    while (vertices != []):\n",
    "    \n",
    "        #finding the source(s)\n",
    "        sources = [j for j in vertices if (np.sum(Xredux_row[:,j]) == 0)]\n",
    "        indy = np.argmax([np.sum((Aredux_col - Xredux_col)[j]) for j in sources])\n",
    "        \n",
    "        the_source = sources[indy]\n",
    "        \n",
    "        #taking theem out\n",
    "        tree.append(the_source)\n",
    "        vertices.remove(the_source)\n",
    "        Aredux_col = A[np.ix_(ind,vertices)]\n",
    "        Xredux_col = A[np.ix_(ind,vertices)]\n",
    "        Xredux_row = X[np.ix_(vertices,ind)]\n",
    "       \n",
    "    for x in xrange(len(tree)):\n",
    "        i = tree.pop(0)\n",
    "        for j in tree:\n",
    "            X[i,j] = A[i,j]\n",
    "            \n",
    "    for i in minus_diag:\n",
    "        X[i,i] = -1\n",
    "\n",
    "    return X"
   ]
  },
  {
   "cell_type": "code",
   "execution_count": null,
   "metadata": {},
   "outputs": [],
   "source": [
    "#Block 11: finding the closest Hurwitz sign-stable matrix (HSM)\n",
    "def closest_sign_stable(A):\n",
    "    \n",
    "\n",
    "    row_sums = [np.sum(A[i]) for i in xrange(dim)] \n",
    "\n",
    "    k0 = np.amax(row_sums)\n",
    "    k0 = np.trunc(k0/2)\n",
    "    k1 = np.amin(row_sums)\n",
    "    seg = k0 + 1\n",
    "    \n",
    "    '''doing a bisection in k until we obtain a matrix with\n",
    "    appropriate spectral abscissa (Step X)'''\n",
    "\n",
    "    while (seg >= 1):\n",
    "        \n",
    "\n",
    "        Xstar, spect_abs = selective_greedy(A,k0)\n",
    "        \n",
    "\n",
    "        \n",
    "        if (spect_abs > 3):\n",
    "            k1 = k0\n",
    "            seg /= 2.0\n",
    "            seg = np.ceil(seg)\n",
    "            k0 += seg\n",
    "\n",
    "        elif (spect_abs == 0):\n",
    "            k1 = k0\n",
    "            seg /= 2.0\n",
    "            seg = np.ceil(seg)\n",
    "            k0 -= seg\n",
    "\n",
    "        else:\n",
    "            k1 = k0\n",
    "            break\n",
    "\n",
    "    if (spect_abs > 0):\n",
    "        '''if a last obtained matrix has a spectral abscissa bigger than zero\n",
    "        we move k forward untill we obtain the optimal solution'''\n",
    "        Xstar, spect_radius = forward(A,spect_abs,k1)\n",
    "    else:\n",
    "        '''if a last obtained matrix has a non-negative spectral abscissa, \n",
    "        we move k backwards untill we get a minimal k for which\n",
    "        we have the closest sign-stable matrix'''\n",
    "        Xstar, spect_radius = backward(A,Xstar,spect_abs,k1)\n",
    "\n",
    "\n",
    "    \n",
    "    '''running the DFS algorithm (if we don't have cycles in the final matrix) \n",
    "    and restoring the + signs'''\n",
    "    Z = np.copy(Xstar)\n",
    "    for i in xrange(dim):\n",
    "        Z[i,i] = 0\n",
    "    if (leading(Z) == 0):\n",
    "        Z = np.copy(Xstar)\n",
    "        Xstar = the_tree(A,Z) \n",
    "\n",
    "    \n",
    "    \n",
    "    \n",
    "    return Xstar, norm(Xstar - A,np.Inf) "
   ]
  },
  {
   "cell_type": "code",
   "execution_count": null,
   "metadata": {},
   "outputs": [],
   "source": [
    "#Block 11: running the algorithm HSM\n",
    "prec = 9 #setting the rounding parameter\n",
    "Eps = 10**(-prec)\n",
    "dim = 10 #setting the dimension\n",
    "(a,b) = (66,95) #setting the density of the starting matrix\n",
    "A = np.array([sparsevecgen(k) for k in xrange(dim)], dtype = float) #generating start. matrix\n",
    "K = closest_sign_stable(A) #running the algorithm \n",
    "print K"
   ]
  }
 ],
 "metadata": {
  "kernelspec": {
   "display_name": "Python 2",
   "language": "python",
   "name": "python2"
  },
  "language_info": {
   "codemirror_mode": {
    "name": "ipython",
    "version": 2
   },
   "file_extension": ".py",
   "mimetype": "text/x-python",
   "name": "python",
   "nbconvert_exporter": "python",
   "pygments_lexer": "ipython2",
   "version": "2.7.13"
  }
 },
 "nbformat": 4,
 "nbformat_minor": 2
}
