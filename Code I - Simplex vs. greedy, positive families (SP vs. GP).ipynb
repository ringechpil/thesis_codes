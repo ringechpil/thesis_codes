{
 "cells": [
  {
   "cell_type": "markdown",
   "metadata": {},
   "source": [
    "The implementation of Algorithms SP and GP presented on pages 12 and 13."
   ]
  },
  {
   "cell_type": "code",
   "execution_count": null,
   "metadata": {
    "collapsed": true
   },
   "outputs": [],
   "source": [
    "#Block 1: loading packages\n",
    "import numpy as np\n",
    "from numpy.linalg import norm\n",
    "import time"
   ]
  },
  {
   "cell_type": "code",
   "execution_count": null,
   "metadata": {
    "collapsed": true
   },
   "outputs": [],
   "source": [
    "#Block 2: function which generates a random integer from 0 to k-1\n",
    "rndm = lambda k: np.random.randint(k)"
   ]
  },
  {
   "cell_type": "code",
   "execution_count": null,
   "metadata": {
    "collapsed": true
   },
   "outputs": [],
   "source": [
    "#Block 3: setting the rounding and precision parameters\n",
    "prec = 8 #rounding parameter\n",
    "Eps = 10**(-prec) #the precision parameter "
   ]
  },
  {
   "cell_type": "code",
   "execution_count": null,
   "metadata": {
    "collapsed": true
   },
   "outputs": [],
   "source": [
    "#Block 4: function for computing the Perron eigenvector and eigenvalue\n",
    "def leading(A):\n",
    "    \n",
    "    evals, evecs = np.linalg.eig(A) \n",
    "    rho = np.amax(np.real(evals)) #rho - spectral radius\n",
    "    ind = np.argmax(np.real(evals))\n",
    "    levec = evecs[:,ind]\n",
    "    levec = np.real(levec)\n",
    "    levec = abs(levec) #levec - leading eigenvalue\n",
    "    \n",
    "    return rho, levec"
   ]
  },
  {
   "cell_type": "code",
   "execution_count": null,
   "metadata": {
    "collapsed": true
   },
   "outputs": [],
   "source": [
    "#Block 5: generating the positive uncertainty set\n",
    "def uncertainty_poz():\n",
    "    return [np.random.rand(dim,) for i in xrange(N)]"
   ]
  },
  {
   "cell_type": "code",
   "execution_count": null,
   "metadata": {},
   "outputs": [],
   "source": [
    "#Block 6: Simplex method for maximization\n",
    "def simplexMAX(A):\n",
    "    \n",
    "    Z = np.copy(A)\n",
    "    \n",
    "    count = 0 #the iteration counter\n",
    "    start = time.clock() #time counter\n",
    "    \n",
    "    simplex = True\n",
    "\n",
    "    while simplex:\n",
    "        \n",
    "        v = leading(Z)[1]\n",
    "        count += 1\n",
    "        change = False\n",
    "        \n",
    "        for i in xrange(dim):\n",
    "            \n",
    "            l = np.dot(Z[i],v)\n",
    "            l = np.round(l,prec)\n",
    "        \n",
    "            for x in F[i]: #finding the vec. from the prod. set which maximizes the dot prod.\n",
    "                prod = np.dot(x,v)\n",
    "                prod = np.round(prod,prec)\n",
    "                \n",
    "                if (prod > l): #change to (prod < l) for minimization\n",
    "                    l = prod\n",
    "                    Z[i] = x\n",
    "                    change = True\n",
    "            \n",
    "            if change: #if change of the row occured, the algorithm goes back to row one\n",
    "                break\n",
    "            elif not change and (i == dim - 1):\n",
    "                '''if change didn't occur, and we made it to the last row, \n",
    "                we finish the procedure'''\n",
    "                simplex = False\n",
    "                \n",
    "    \n",
    "    run = np.round(time.clock() - start,2)\n",
    "    spect_radius = np.round(leading(Z)[0],2)\n",
    "    \n",
    "    return spect_radius, count, run"
   ]
  },
  {
   "cell_type": "code",
   "execution_count": null,
   "metadata": {
    "collapsed": true
   },
   "outputs": [],
   "source": [
    "#Block 7: Greedy method for maximization \n",
    "def greedyMAX(A):\n",
    "    \n",
    "    Z = np.copy(A)\n",
    "    \n",
    "    count = 0 #the iteration counter \n",
    "    start = time.clock() #time counter\n",
    "\n",
    "    while True:\n",
    "        \n",
    "        v = leading(Z)[1]\n",
    "        count += 1\n",
    "        change = False\n",
    "        \n",
    "        for i in xrange(dim):\n",
    "            \n",
    "            l = np.dot(Z[i],v)\n",
    "            l = np.round(l,prec)\n",
    "        \n",
    "            for x in F[i]: #finding the vec. from the prod. set which maximizes the dot prod.\n",
    "                prod = np.dot(x,v)\n",
    "                prod = np.round(prod,prec)\n",
    "                \n",
    "                if (prod > l): #change to (prod < l) for minimization\n",
    "                    l = prod\n",
    "                    Z[i] = x\n",
    "                    change = True\n",
    "            \n",
    "        if not change: #if no row was changed, we finish the procedure\n",
    "            break\n",
    "                \n",
    "    \n",
    "    run = np.round(time.clock() - start,2)\n",
    "    spect_radius = np.round(leading(Z)[0],2)\n",
    "    \n",
    "    return spect_radius, count, run"
   ]
  },
  {
   "cell_type": "code",
   "execution_count": null,
   "metadata": {},
   "outputs": [],
   "source": [
    "#Block 8: running the code\n",
    "dim = 50 #setting the dimension\n",
    "N = 20 #setting the cardinality of the uncertainty sets\n",
    "F = [uncertainty_poz() for i in xrange(dim)] #generating the product family F\n",
    "A = np.array([F[i][rndm(N)] for i in xrange(dim)]) #taking an arbitrary matrix from F\n",
    "S = simplexMAX(A) #running the simplex method\n",
    "print S\n",
    "G = greedyMAX(A) #running the greedy method\n",
    "print G"
   ]
  }
 ],
 "metadata": {
  "kernelspec": {
   "display_name": "Python 2",
   "language": "python",
   "name": "python2"
  },
  "language_info": {
   "codemirror_mode": {
    "name": "ipython",
    "version": 2
   },
   "file_extension": ".py",
   "mimetype": "text/x-python",
   "name": "python",
   "nbconvert_exporter": "python",
   "pygments_lexer": "ipython2",
   "version": "2.7.13"
  }
 },
 "nbformat": 4,
 "nbformat_minor": 2
}
