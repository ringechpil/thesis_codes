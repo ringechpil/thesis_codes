{
 "cells": [
  {
   "cell_type": "markdown",
   "metadata": {},
   "source": [
    "The implementation of the selective greedy method to the polyhedral sets, as given on the page 38."
   ]
  },
  {
   "cell_type": "code",
   "execution_count": null,
   "metadata": {
    "collapsed": true
   },
   "outputs": [],
   "source": [
    "#Block 1: loading packages\n",
    "import numpy as np\n",
    "from scipy import linalg as la\n",
    "from numpy.linalg import norm\n",
    "from pulp import *\n",
    "import time"
   ]
  },
  {
   "cell_type": "code",
   "execution_count": null,
   "metadata": {
    "collapsed": true
   },
   "outputs": [],
   "source": [
    "#Block 2: setting the rounding and precision parameters\n",
    "prec = 8 #rounding parameter\n",
    "Eps = 10**(-prec)"
   ]
  },
  {
   "cell_type": "code",
   "execution_count": null,
   "metadata": {
    "collapsed": true
   },
   "outputs": [],
   "source": [
    "#Block 3: functiong for creating a random normalized vector\n",
    "def normvec():\n",
    "    ranvec = lambda: np.random.rand(dim,)\n",
    "    b0 = ranvec()\n",
    "    b0 = b0/float(norm(b0))\n",
    "    b0 = np.round(b0,prec)\n",
    "    \n",
    "    return b0"
   ]
  },
  {
   "cell_type": "code",
   "execution_count": null,
   "metadata": {
    "collapsed": true
   },
   "outputs": [],
   "source": [
    "#Block 4: LP solver, determening the solution which maximizes the objective function\n",
    "def lpsolve(v,b):\n",
    "    prob = LpProblem('lp',LpMaximize)\n",
    "    \n",
    "   \n",
    "    x = [LpVariable('x%d' %i,0,1) for i in xrange(dim)] #unknown variables, bounded by (0,1)\n",
    "    \n",
    "    \n",
    "    obj = 0\n",
    "    const = [0]*N \n",
    "    for i in xrange(dim):\n",
    "        obj += x[i]*v[i] #the objective function\n",
    "        const = [const[j] + x[i]*b[j][i] for j in xrange(N)] #the constraints\n",
    "        \n",
    "  \n",
    "    prob += obj\n",
    "    \n",
    "    #the constraints\n",
    "    for j in xrange(N):\n",
    "        prob += const[j] <= 1\n",
    "\n",
    "    \n",
    "    prob.solve()\n",
    "    \n",
    "    sol = [x[i].varValue for i in xrange(dim)] #optimal solution\n",
    "    sol = np.round(sol,prec)\n",
    "    \n",
    "    return sol"
   ]
  },
  {
   "cell_type": "code",
   "execution_count": null,
   "metadata": {
    "collapsed": true
   },
   "outputs": [],
   "source": [
    "#Block 5: selective power method \n",
    "def pwrmthd(A):\n",
    "    A = A + np.identity(dim) #see the remark on page 28\n",
    "    v0 = np.array([1 for i in xrange(dim)]) #starting vector of all ones \n",
    "    v1 = np.dot(A,v0)/float(norm(np.dot(A,v0)))\n",
    "    v1 = np.round(v1,prec)\n",
    "    while norm(v0-v1) > Eps*10: #the precision parametar $\\varepsilon$ \n",
    "        v0 = v1\n",
    "        v1 = np.dot(A,v0)/float(norm(np.dot(A,v0)))\n",
    "    return np.round(v1,prec-1)"
   ]
  },
  {
   "cell_type": "code",
   "execution_count": null,
   "metadata": {
    "collapsed": true
   },
   "outputs": [],
   "source": [
    "#Block 6: function for computing the spectral radius\n",
    "def leading(A):\n",
    "    \n",
    "    evals = np.linalg.eig(A)[0] #set of eigenvalues \n",
    "    return np.amax(np.real(evals)) #spectral radius"
   ]
  },
  {
   "cell_type": "code",
   "execution_count": null,
   "metadata": {
    "collapsed": true
   },
   "outputs": [],
   "source": [
    "#Block 7: selective greedy method for polyhedral sets\n",
    "def greedy_polyMAX(A): \n",
    "    \n",
    "    Z = np.copy(A)\n",
    "    Z0 = np.copy(Z)\n",
    "    \n",
    "    start = time.clock() #time counter\n",
    "    count = 0 #the iteration counter\n",
    "    \n",
    "    while True:\n",
    "        v = pwrmthd(Z) \n",
    "        count += 1\n",
    "        \n",
    "        for i in xrange(dim): #solving the LP problems\n",
    "            a = lpsolve(v,F[i])\n",
    "            Z0[i] = a\n",
    "       \n",
    "    \n",
    "        if (Z0 == Z).all(): #checking wether the new matrix is truly optimal\n",
    "            run = np.round(time.clock() - start,2)\n",
    "            spect = np.round(leading(Z),2)\n",
    "            return spect, count, run\n",
    "        \n",
    "        else: \n",
    "            Z = np.copy(Z0)"
   ]
  },
  {
   "cell_type": "code",
   "execution_count": null,
   "metadata": {},
   "outputs": [],
   "source": [
    "#Block 8: running the code\n",
    "dim = 50 #seting the dimension\n",
    "N = 20 #seting the number of constraints; the actuall number of constraints will be 2d + N\n",
    "F = [[normvec() for i in xrange(N)] for x in xrange(dim)] #generating the polyhedral product family\n",
    "A = np.array([normvec() for x in xrange(dim)]) #generating the starting matrix\n",
    "G = greedy_polyMAX(A) #running the selective greedy method on F\n",
    "print G"
   ]
  }
 ],
 "metadata": {
  "kernelspec": {
   "display_name": "Python 2",
   "language": "python",
   "name": "python2"
  },
  "language_info": {
   "codemirror_mode": {
    "name": "ipython",
    "version": 2
   },
   "file_extension": ".py",
   "mimetype": "text/x-python",
   "name": "python",
   "nbconvert_exporter": "python",
   "pygments_lexer": "ipython2",
   "version": "2.7.13"
  }
 },
 "nbformat": 4,
 "nbformat_minor": 2
}
