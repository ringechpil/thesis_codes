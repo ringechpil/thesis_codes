{
 "cells": [
  {
   "cell_type": "markdown",
   "metadata": {},
   "source": [
    "Implementation of Algorithm ACY, presented on pages 52 and 53."
   ]
  },
  {
   "cell_type": "code",
   "execution_count": null,
   "metadata": {
    "collapsed": true
   },
   "outputs": [],
   "source": [
    "#Block 1: loading the packages\n",
    "import numpy as np\n",
    "import scipy as sc\n",
    "import random\n",
    "from scipy import linalg as la\n",
    "from numpy.linalg import norm\n",
    "import scipy.sparse as sparse\n",
    "from scipy.sparse import rand as rndma\n",
    "import time"
   ]
  },
  {
   "cell_type": "code",
   "execution_count": null,
   "metadata": {
    "collapsed": true
   },
   "outputs": [],
   "source": [
    "#Block 2: generating the (0,1) - vector\n",
    "def sparsevecgen(k):\n",
    "    \n",
    "    ones = np.random.choice(range(a,b))\n",
    "    ones *= dim/100.0\n",
    "    ones = int(np.trunc(ones))\n",
    "    \n",
    "    v = np.zeros(dim)\n",
    "    ind = range(dim)\n",
    "    random.shuffle(ind)\n",
    "    ind = ind[:ones]\n",
    "    v[ind] = 1\n",
    "    v[k] = 0\n",
    "    \n",
    "    return v"
   ]
  },
  {
   "cell_type": "code",
   "execution_count": null,
   "metadata": {
    "collapsed": true
   },
   "outputs": [],
   "source": [
    "#Block 3: selective power method \n",
    "def pwrmthd(A):\n",
    "    A = A + np.identity(dim) #see the remark on page 28\n",
    "    v0 = np.array([1 for i in xrange(dim)]) #starting vector of all ones \n",
    "    v1 = np.dot(A,v0)/float(norm(np.dot(A,v0)))\n",
    "    v1 = np.round(v1,prec)\n",
    "    while norm(v0-v1) > Eps*10: #the precision parametar $\\varepsilon$ \n",
    "        v0 = v1\n",
    "        v1 = np.dot(A,v0)/float(norm(np.dot(A,v0)))\n",
    "    return np.round(v1,prec-1)"
   ]
  },
  {
   "cell_type": "code",
   "execution_count": null,
   "metadata": {
    "collapsed": true
   },
   "outputs": [],
   "source": [
    "#Block 4: computing the spectral radius\n",
    "def leading(A):\n",
    "    \n",
    "    evals = np.linalg.eig(A)[0] #set of eigenvalues \n",
    "    return np.amax(np.real(evals)) #spectral radius"
   ]
  },
  {
   "cell_type": "code",
   "execution_count": null,
   "metadata": {
    "collapsed": true
   },
   "outputs": [],
   "source": [
    "#Block 6: a solution to the LP problem (4.4)\n",
    "def lp_solution(A,v,supp,tau):\n",
    "    \n",
    "    D = len(supp)\n",
    "    X = np.copy(A)\n",
    "    \n",
    "    ind = np.argsort(v)[::-1]\n",
    "    ind = ind[:D]\n",
    "    \n",
    "    for i in xrange(dim):\n",
    "        S = 0\n",
    "        for l in ind:\n",
    "            S += A[i,l]\n",
    "            if (S <= tau):\n",
    "                X[i,l] = 0\n",
    "            else:\n",
    "                X[i,l] = -tau + S\n",
    "                break\n",
    "    \n",
    "    return np.round(X,prec)"
   ]
  },
  {
   "cell_type": "code",
   "execution_count": null,
   "metadata": {
    "collapsed": true
   },
   "outputs": [],
   "source": [
    "#Block 7: implementing the the greedy method for min. on the ball of radius k (Step 1)\n",
    "def selective_greedy(A,tau):\n",
    "    \n",
    "    X = np.copy(A)\n",
    "    v0 = pwrmthd(X) #computing the leading eigenvalue\n",
    "    supp = list(np.where(v0 != 0)[0]) #getting the support\n",
    "    notsupp = list(set(range(dim)) - set(supp))\n",
    "    notsupp.sort()\n",
    "\n",
    "    while True: #constructing the solution X_k\n",
    "        Z = np.copy(X)\n",
    "        v = v0\n",
    "        X = lp_solution(A,v,supp,tau)\n",
    "        X[notsupp] = Z[notsupp]\n",
    "        \n",
    "        for k in supp:\n",
    "            olddot = np.dot(Z[k],v)\n",
    "            newdot = np.dot(X[k],v)\n",
    "            if (olddot < newdot) or (abs(olddot - newdot) < 1e-7): #see page X\n",
    "                X[k] = Z[k]\n",
    "        \n",
    "        v0 = pwrmthd(X)\n",
    "        spect_radius = np.round(leading(X),prec)\n",
    "        \n",
    "        '''if matrices of iterations k-1 and k match on the support, \n",
    "        OR if they have the same leading eigenvector,\n",
    "        OR if the spectral radius of X_k is less than 1, we finish the greedy method''' \n",
    "        if (X[supp] == Z[supp]).all() or (v == v0).all() or (spect_radius < 1):\n",
    "            return np.round(X,prec), spect_radius\n",
    "        else:\n",
    "            supp = list(np.where(v0 != 0)[0])\n",
    "            notsupp = list(set(range(dim)) - set(supp))\n",
    "            notsupp.sort()"
   ]
  },
  {
   "cell_type": "code",
   "execution_count": null,
   "metadata": {
    "collapsed": true
   },
   "outputs": [],
   "source": [
    "#Block 8: moving k forward and computing the maximal spectral radius on \n",
    "#the corresponding ball (Step 3)\n",
    "def forward(A,spectfin,k):\n",
    "    \n",
    "    while (spectfin != 0):\n",
    "        \n",
    "        if (spectfin > 6): \n",
    "            k += 2\n",
    "        else:\n",
    "            k += 1\n",
    "        \n",
    "        Xstar, spectfin = selective_greedy(A,k)\n",
    "        \n",
    "    \n",
    "    return Xstar, spectfin"
   ]
  },
  {
   "cell_type": "code",
   "execution_count": null,
   "metadata": {
    "collapsed": true
   },
   "outputs": [],
   "source": [
    "#Block 9: moving k backward and computing the maximal spectral radius \n",
    "#on the corresponding ball (Step 3)\n",
    "def backward(A,X,spect,k):\n",
    "    \n",
    "    while (spect == 0):\n",
    "        Xstar = np.copy(X)\n",
    "        spectfin = spect\n",
    "        k -= 1\n",
    "        X, spect = selectivegreedylinf(A,k)\n",
    "        \n",
    "    \n",
    "    return Xstar, spectfin"
   ]
  },
  {
   "cell_type": "code",
   "execution_count": null,
   "metadata": {
    "collapsed": true
   },
   "outputs": [],
   "source": [
    "#Block 10: the DFS algorithm, returning the upper triangular matrix with restored edges \n",
    "#(Step 4)\n",
    "def the_tree(A,X):\n",
    "    \n",
    "    \n",
    "    tree = []\n",
    "    vertices = [i for i in xrange(dim)]\n",
    "    ind = [i for i in xrange(dim)]\n",
    "    Aredux_col = np.copy(A)\n",
    "    Xredux_row = np.copy(X)\n",
    "    Xredux_col = np.copy(X)\n",
    "    \n",
    "    while (vertices != []):\n",
    "    \n",
    "        #finding the source(s)\n",
    "        sources = [j for j in vertices if (np.sum(Xredux_row[:,j]) == 0)]\n",
    "        indy = np.argmax([np.sum((Aredux_col - Xredux_col)[j]) for j in sources])\n",
    "        \n",
    "        the_source = sources[indy]\n",
    "        \n",
    "        #taking theem out\n",
    "        tree.append(the_source)\n",
    "        vertices.remove(the_source)\n",
    "        Aredux_col = A[np.ix_(ind,vertices)]\n",
    "        Xredux_col = A[np.ix_(ind,vertices)]\n",
    "        Xredux_row = X[np.ix_(vertices,ind)]\n",
    "       \n",
    "    for x in xrange(len(tree)):\n",
    "        i = tree.pop(0)\n",
    "        for j in tree:\n",
    "            X[i,j] = A[i,j]\n",
    "\n",
    "    return X"
   ]
  },
  {
   "cell_type": "code",
   "execution_count": null,
   "metadata": {
    "collapsed": true
   },
   "outputs": [],
   "source": [
    "#Block 11: finding the closest acyclic graph (ACY)\n",
    "def closest_graph(A):\n",
    "    \n",
    "\n",
    "    start = time.clock()\n",
    "    \n",
    "\n",
    "    row_sums = [np.sum(A[i]) for i in xrange(dim)]  \n",
    "\n",
    "    k0 = np.amax(row_sums)\n",
    "    k0 = np.trunc(k0/2) #(Step 0)\n",
    "    k1 = np.amin(row_sums)\n",
    "    seg = k0\n",
    "    \n",
    "    '''doing a bisection in k until we obtain a matrix with\n",
    "    appropriate spectral radius (Step 1)'''\n",
    "\n",
    "    while (seg >= 1):\n",
    "\n",
    "        Xstar, spect_radius = selective_greedy(A,k0)\n",
    "        \n",
    "\n",
    "        \n",
    "        if (spect_radius > 3):\n",
    "            k1 = k0\n",
    "            seg /= 2.0\n",
    "            seg = np.ceil(seg)\n",
    "            k0 += seg\n",
    "\n",
    "        elif (spect_radius == 0):\n",
    "            k1 = k0\n",
    "            seg /= 2.0\n",
    "            seg = np.ceil(seg)\n",
    "            k0 -= seg\n",
    "\n",
    "        else:\n",
    "            k1 = k0\n",
    "            break\n",
    "\n",
    "    if (spect_radius != 0):\n",
    "        '''if a last obtained matrix has a spectral radius bigger than zero\n",
    "        we move k forward untill we obtain an acyclic graph (Step 3)'''\n",
    "        Xstar, spect_radius = forward(A,spect_radius,k1)\n",
    "    else:\n",
    "        '''if a last obtained matrix has a zero spectral radius, \n",
    "        we move k backwards untill we get a minimal k for which\n",
    "        we have an acyclic graph (Step 3)'''\n",
    "        Xstar, spect_radius = backward(A,Xstar,spect_radius,k1)\n",
    "\n",
    "\n",
    "    run = time.clock() - start #running time after the Step X\n",
    "    run = np.round(run,2)\n",
    "    \n",
    "    #computing the percentage of saved edges after the Step X\n",
    "    perc = (np.sum(Xstar)/np.sum(A)) \n",
    "    \n",
    "    Z = np.copy(Xstar)\n",
    "    \n",
    "    '''unning the DFS algorithm and restoring the edges (Step 4);\n",
    "    this will give us the MAS approximation'''\n",
    "    Gamma = the_tree(A,Z) \n",
    "\n",
    "\n",
    "    run_tree = time.clock() - start #running time after the Step X\n",
    "    run_tree = np.round(run_tree,2)\n",
    "    \n",
    "    '''computing the percentage of saved edges after the Step X;\n",
    "    this will actuall give us how good our MAS approximation is'''\n",
    "    perc_tree = (np.sum(Gamma)/np.sum(A))\n",
    "    \n",
    "    return run, perc, run_tree, perc_tree, norm(Gamma - A,np.Inf) "
   ]
  },
  {
   "cell_type": "code",
   "execution_count": null,
   "metadata": {},
   "outputs": [],
   "source": [
    "#Block 12: running the algorithm ACY\n",
    "prec = 9 #setting the rounding parameter\n",
    "Eps = 10**(-prec)\n",
    "dim = 500 #setting the dimension\n",
    "(a,b) = (66,95) #setting the density of the starting graph\n",
    "A = np.array([sparsevecgen(k) for k in xrange(dim)], dtype = float) #generating start. graph\n",
    "K = closest_graph(A) #running the algorithm \n",
    "print K"
   ]
  }
 ],
 "metadata": {
  "kernelspec": {
   "display_name": "Python 2",
   "language": "python",
   "name": "python2"
  },
  "language_info": {
   "codemirror_mode": {
    "name": "ipython",
    "version": 2
   },
   "file_extension": ".py",
   "mimetype": "text/x-python",
   "name": "python",
   "nbconvert_exporter": "python",
   "pygments_lexer": "ipython2",
   "version": "2.7.13"
  }
 },
 "nbformat": 4,
 "nbformat_minor": 2
}
