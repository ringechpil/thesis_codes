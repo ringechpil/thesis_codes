{
 "cells": [
  {
   "cell_type": "markdown",
   "metadata": {},
   "source": [
    "Implementation of Algorithm HUS, presented on pages 79 and 80."
   ]
  },
  {
   "cell_type": "code",
   "execution_count": null,
   "metadata": {
    "collapsed": true
   },
   "outputs": [],
   "source": [
    "#Block 1: loading packages\n",
    "import numpy as np\n",
    "import scipy as sc\n",
    "import random\n",
    "from scipy import linalg as la\n",
    "from numpy.linalg import norm\n",
    "import scipy.sparse as sparse\n",
    "from scipy.sparse import rand as rndma\n",
    "import time"
   ]
  },
  {
   "cell_type": "code",
   "execution_count": null,
   "metadata": {
    "collapsed": true
   },
   "outputs": [],
   "source": [
    "#Block 2: setting the rounding and precision parameters\n",
    "prec = 8 #rounding parameter\n",
    "Eps = 10**(-prec)"
   ]
  },
  {
   "cell_type": "code",
   "execution_count": null,
   "metadata": {
    "collapsed": true
   },
   "outputs": [],
   "source": [
    "#Block 3: function which generates a row of a starting matrix, full case\n",
    "def vecgen_full(k):\n",
    "    vec = np.random.rand(dim,)\n",
    "    vec[k] = np.random.choice([-vec[k],vec[k]])\n",
    "    vec = np.round(vec,prec)\n",
    "    return vec"
   ]
  },
  {
   "cell_type": "code",
   "execution_count": null,
   "metadata": {
    "collapsed": true
   },
   "outputs": [],
   "source": [
    "#Block 4: function which generates the rows of a starting matrix, sparse case\n",
    "def vecgen(k):\n",
    "    ranrow = lambda: (rndma(1,dim,density = np.random.uniform(a,b))).A\n",
    "    v = ranrow()\n",
    "    v = v.flatten()\n",
    "    v = np.round(v,prec)\n",
    "    v[k] = np.random.choice([-v[k],v[k]])\n",
    "       \n",
    "    return v"
   ]
  },
  {
   "cell_type": "code",
   "execution_count": null,
   "metadata": {
    "collapsed": true
   },
   "outputs": [],
   "source": [
    "#Block 5: translative power method\n",
    "def pwrmthd(A):  \n",
    "    \n",
    "    dneg = np.diag(A)\n",
    "    if (dneg < 0).any():\n",
    "        h = abs(np.amin(dneg))\n",
    "    else:\n",
    "        h = 0\n",
    "    \n",
    "    A = A + (h+1)*np.identity(dim)\n",
    "    v0 = np.array([1 for i in xrange(dim)])\n",
    "    v1 = np.dot(A,v0)/float(norm(np.dot(A,v0)))\n",
    "    v1 = np.round(v1,prec)\n",
    "    while norm(v0-v1) > Eps*10:\n",
    "        v0 = v1\n",
    "        v1 = np.dot(A,v0)/float(norm(np.dot(A,v0)))\n",
    "        v1 = np.round(v1,prec-1)\n",
    "    return v1"
   ]
  },
  {
   "cell_type": "code",
   "execution_count": null,
   "metadata": {
    "collapsed": true
   },
   "outputs": [],
   "source": [
    "#Block 6: computing the spectral abscissa\n",
    "def leading(A):\n",
    "    \n",
    "    evals = np.linalg.eig(A)[0] #set of eigenvalues \n",
    "    return np.amax(np.real(evals)) #spectral abscissa"
   ]
  },
  {
   "cell_type": "code",
   "execution_count": null,
   "metadata": {
    "collapsed": true
   },
   "outputs": [],
   "source": [
    "#Block 7: a solution to LP problem\n",
    "def lp_solution(A,v,supp,tau):\n",
    "    \n",
    "    D = len(supp)\n",
    "    X = np.copy(A)\n",
    "    \n",
    "    ind = np.argsort(v)[::-1]\n",
    "    ind = ind[:D]\n",
    "    \n",
    "    for i in xrange(dim): \n",
    "        S = 0\n",
    "        for l in ind:\n",
    "            S += A[i,l]\n",
    "            if (S <= tau) and (l != i):\n",
    "                X[i,l] = 0\n",
    "            else:\n",
    "                X[i,l] = -tau + S\n",
    "                break\n",
    "    \n",
    "    return np.round(X,prec)"
   ]
  },
  {
   "cell_type": "code",
   "execution_count": null,
   "metadata": {
    "collapsed": true
   },
   "outputs": [],
   "source": [
    "#Block 8: implementing the the greedy method for minimization on the ball \n",
    "#of radius \\tau (Step 1)\n",
    "def selective_greedy(A,tau):\n",
    "    \n",
    "    X = np.copy(A)\n",
    "    v0 = pwrmthd(X) #computing the leading eigenvalue\n",
    "    supp = list(np.where(v0 != 0)[0]) #getting the support\n",
    "    notsupp = list(set(range(dim)) - set(supp))\n",
    "    notsupp.sort()\n",
    "\n",
    "    while True: #constructing the solution X_k\n",
    "        Z = np.copy(X)\n",
    "        v = v0\n",
    "        X = lp_solution(A,v,supp,tau)\n",
    "        X[notsupp] = Z[notsupp]\n",
    "        \n",
    "        for k in supp:\n",
    "            olddot = np.dot(Z[k],v)\n",
    "            newdot = np.dot(X[k],v)\n",
    "            olddot = np.round(olddot,prec)\n",
    "            newdot = np.round(newdot,prec)\n",
    "            if (olddot < newdot) or (abs(olddot - newdot) < 1e-6): #see the Appendix\n",
    "                X[k] = Z[k]\n",
    "        \n",
    "        v0 = pwrmthd(X)\n",
    "        spect_abs = np.round(leading(X),prec)\n",
    "        #print spect_abs, 'spectruum'\n",
    "        \n",
    "        '''if matrices of iterations k-1 and k match on the support, \n",
    "        OR if they have the same leading eigenvector, we finish the greedy method''' \n",
    "        if (X[supp] == Z[supp]).all() or (v == v0).all():\n",
    "            return np.round(X,prec), spect_abs, v0, supp\n",
    "        else:\n",
    "            supp = list(np.where(v0 != 0)[0])\n",
    "            notsupp = list(set(range(dim)) - set(supp))\n",
    "            notsupp.sort()"
   ]
  },
  {
   "cell_type": "code",
   "execution_count": null,
   "metadata": {
    "collapsed": true
   },
   "outputs": [],
   "source": [
    "#Block 9: the greedy method for checking if the potential solution is true solution (Step 4)\n",
    "def selective_greedy_check(A,tau):\n",
    "    \n",
    "    X = np.copy(A)\n",
    "    v0 = pwrmthd(X) #computing the leading eigenvalue\n",
    "    supp = list(np.where(v0 != 0)[0]) #getting the support\n",
    "    notsupp = list(set(range(dim)) - set(supp))\n",
    "    notsupp.sort()\n",
    "\n",
    "    while True: #constructing the solution X_k\n",
    "        Z = np.copy(X)\n",
    "        v = v0\n",
    "        X = lp_solution(A,v,supp,tau)\n",
    "        X[notsupp] = Z[notsupp]\n",
    "        \n",
    "        for k in supp:\n",
    "            olddot = np.dot(Z[k],v)\n",
    "            newdot = np.dot(X[k],v)\n",
    "            olddot = np.round(olddot,prec)\n",
    "            newdot = np.round(newdot,prec)\n",
    "            if (olddot < newdot) or (abs(olddot - newdot) < 1e-6): #see the Appendix\n",
    "                X[k] = Z[k]\n",
    "        \n",
    "        v0 = pwrmthd(X)\n",
    "        spect_abs = np.round(leading(X),prec)\n",
    "        \n",
    "        '''if matrices of iterations k-1 and k match on the support, \n",
    "        OR if they have the same leading eigenvector, we finish the greedy method''' \n",
    "        if (X[supp] == Z[supp]).all() or (v == v0).all():\n",
    "            return np.round(X,prec), spect_abs\n",
    "        \n",
    "            '''if we obtain a stable matrix with a spect. abscissa too far from zero,\n",
    "            we quit the procedure; our matrix is not an optimal one'''\n",
    "        elif (spect_abs < 0) and (abs(spect_abs) >= theta):\n",
    "            return _,1000\n",
    "        \n",
    "        else:\n",
    "            supp = list(np.where(v0 != 0)[0])\n",
    "            notsupp = list(set(range(dim)) - set(supp))\n",
    "            notsupp.sort()"
   ]
  },
  {
   "cell_type": "code",
   "execution_count": null,
   "metadata": {
    "collapsed": true
   },
   "outputs": [],
   "source": [
    "#Block 10: construcitng the matrices R and C (Step 2) \n",
    "def costruct_RC(A,v,tau): \n",
    "    \n",
    "    D = len(v)\n",
    "    C = np.copy(A)\n",
    "    R = np.zeros((D,D))\n",
    "    \n",
    "    ind = np.argsort(v)[::-1] #reordering\n",
    "    \n",
    "    for i in xrange(D): #constructing the solution\n",
    "        S = 0\n",
    "        for l in ind:\n",
    "            S += A[i,l]\n",
    "            if (S <= tau) and (l != i):\n",
    "                C[i,l] = 0\n",
    "            else:\n",
    "                C[i,l] = S\n",
    "                R[i,l] = 1\n",
    "                break\n",
    "    \n",
    "    return R, C"
   ]
  },
  {
   "cell_type": "code",
   "execution_count": null,
   "metadata": {
    "collapsed": true
   },
   "outputs": [],
   "source": [
    "#Block 11: finding the closest Hurwitz stable matrix\n",
    "def hurwitz_stabilization(A): \n",
    "    \n",
    "    start = time.clock() #time counter\n",
    "     \n",
    "    tau0 = norm(A,np.Inf)/2.0 #the starting \\tau (Step 0)\n",
    "    seg = tau0\n",
    "    tau1 = 0\n",
    "    \n",
    "    while True:\n",
    "        while True: #this loop is the bisection in tau (Step 1)\n",
    "            X, spect_abs, v, supp = selective_greedy(A,tau0)\n",
    "           \n",
    "            taudiff = abs(tau1 - tau0)\n",
    "            spectdiff = abs(spect_abs)\n",
    "        \n",
    "            if (spectdiff < theta) and (taudiff < 1e-3):\n",
    "                '''\\theta is the tolerance parameter; if we arrive by bisection \n",
    "                at the matrix having X_k with spect. abs. 0 +- \\theta, we will accept it \n",
    "                as a solution; \n",
    "                taudiff is put for precaution: we can accept the matrix X_k as the solution\n",
    "                only if \\tau_{k-1} and \\tau_k are close enough, else we might get an\n",
    "                imprecize solution'''\n",
    "                run = time.clock() - start\n",
    "                run = np.round(run,2)\n",
    "                return run, spect_abs, norm(X-A,np.Inf)\n",
    "\n",
    "            if (spect_abs > 0):\n",
    "                tau1 = tau0\n",
    "                seg /= 2.0\n",
    "                tau0 += seg\n",
    "\n",
    "            else: #we go to the next step if we obtain a stable matrix\n",
    "                tau1 = tau0\n",
    "                seg /= 2.0\n",
    "                tau0 -= seg\n",
    "                break\n",
    "                \n",
    "               \n",
    "        # Here we construct matrices R and C (Step 2)        \n",
    "        Aredux = A[np.ix_(supp,supp)]\n",
    "        vredux = v[supp]\n",
    "        C = np.copy(X)\n",
    "        R = np.zeros((dim,dim))\n",
    "        Rredux, Credux = costruct_RC(Aredux,vredux,tau1)\n",
    "        R[np.ix_(supp,supp)] = Rredux\n",
    "        C[np.ix_(supp,supp)] = Credux\n",
    "        Sprim = - (C - tau1*R) #the matrix given on the page 80\n",
    "        det = np.linalg.det(Sprim)\n",
    "        \n",
    "        if (det != 0): \n",
    "        \n",
    "            '''theoretically, Sprim should be non-singular, but due to computational\n",
    "            miscalculations it may have \\det = 0; that's why we put this check'''\n",
    "            #computing the potential optimal value (Step 3)\n",
    "            S = la.inv(Sprim)\n",
    "            S = np.round(S,prec)\n",
    "            Q = np.matmul(S,R)\n",
    "            lamb = leading(Q)\n",
    "            taustar = tau1 - 1/lamb \n",
    "            taustar = np.round(taustar,prec) #the potential optimal distance\n",
    "\n",
    "\n",
    "            Xstar, spect_final = selective_greedy_check(A,taustar)\n",
    "            #checking if we really have a true solution (Step 4)\n",
    "            if (abs(spect_final) < theta): \n",
    "                '''checking if the obtained matrix has a spectral radius in \n",
    "                accordance to the tolerance parameter'''\n",
    "                run = time.clock() - start\n",
    "                run = np.round(run,2)\n",
    "                return run, spect_final, norm(Xstar-A,np.Inf)"
   ]
  },
  {
   "cell_type": "code",
   "execution_count": null,
   "metadata": {
    "scrolled": false
   },
   "outputs": [],
   "source": [
    "#Block 12: running the algorithm HUS, sparse case\n",
    "dim = 850 #set the dimension\n",
    "theta = 1e-4 #set the tolerance parameter\n",
    "(a,b) = (0.16,0.22) #set the interval for the density parameter\n",
    "A = np.array([vecgen(k) for k in xrange(dim)], dtype = float) #generating the starting matrix\n",
    "S = hurwitz_stabilization(A)\n",
    "print S"
   ]
  }
 ],
 "metadata": {
  "kernelspec": {
   "display_name": "Python 2",
   "language": "python",
   "name": "python2"
  },
  "language_info": {
   "codemirror_mode": {
    "name": "ipython",
    "version": 2
   },
   "file_extension": ".py",
   "mimetype": "text/x-python",
   "name": "python",
   "nbconvert_exporter": "python",
   "pygments_lexer": "ipython2",
   "version": "2.7.13"
  }
 },
 "nbformat": 4,
 "nbformat_minor": 2
}
