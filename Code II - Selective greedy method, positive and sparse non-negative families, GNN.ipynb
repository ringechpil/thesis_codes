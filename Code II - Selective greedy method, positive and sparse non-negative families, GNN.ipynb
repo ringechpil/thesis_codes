{
 "cells": [
  {
   "cell_type": "markdown",
   "metadata": {},
   "source": [
    "The implementation of Algorithm GNN, presented on page 19, equipped with selective power method. The results of the corresponding numerical experiments are given on pages 36 and 37."
   ]
  },
  {
   "cell_type": "code",
   "execution_count": null,
   "metadata": {
    "collapsed": true
   },
   "outputs": [],
   "source": [
    "#Block 1: loading packages\n",
    "import numpy as np\n",
    "from numpy.linalg import norm\n",
    "import time\n",
    "from scipy.sparse import rand"
   ]
  },
  {
   "cell_type": "code",
   "execution_count": null,
   "metadata": {
    "collapsed": true
   },
   "outputs": [],
   "source": [
    "#Block 2: function which generates a random integer from 0 to k-1\n",
    "rndm = lambda k: np.random.randint(k)"
   ]
  },
  {
   "cell_type": "code",
   "execution_count": null,
   "metadata": {
    "collapsed": true
   },
   "outputs": [],
   "source": [
    "#Block 3: setting the rounding and precision parameters\n",
    "prec = 8 #rounding parameter\n",
    "Eps = 10**(-prec)"
   ]
  },
  {
   "cell_type": "code",
   "execution_count": null,
   "metadata": {
    "collapsed": true
   },
   "outputs": [],
   "source": [
    "#Block 4: selective power method \n",
    "def pwrmthd(A):\n",
    "    A = A + np.identity(dim) #see the remark on page 28\n",
    "    v0 = np.array([1 for i in xrange(dim)]) #starting vector of all ones \n",
    "    v1 = np.dot(A,v0)/float(norm(np.dot(A,v0)))\n",
    "    v1 = np.round(v1,prec)\n",
    "    while norm(v0-v1) > Eps*10: #the precision parametar $\\varepsilon$ \n",
    "        v0 = v1\n",
    "        v1 = np.dot(A,v0)/float(norm(np.dot(A,v0)))\n",
    "    return np.round(v1,prec-1)"
   ]
  },
  {
   "cell_type": "code",
   "execution_count": null,
   "metadata": {
    "collapsed": true
   },
   "outputs": [],
   "source": [
    "#Block 5: function for computing the spectral radius\n",
    "def leading(A):\n",
    "    \n",
    "    evals = np.linalg.eig(A)[0] #set of eigenvalues \n",
    "    return np.amax(np.real(evals)) #spectral radius"
   ]
  },
  {
   "cell_type": "code",
   "execution_count": null,
   "metadata": {
    "collapsed": true
   },
   "outputs": [],
   "source": [
    "#Block 6: generating the positive uncertainty set\n",
    "def uncertainty_poz():\n",
    "    return [np.random.rand(dim,) for i in xrange(N)]"
   ]
  },
  {
   "cell_type": "code",
   "execution_count": null,
   "metadata": {
    "collapsed": true
   },
   "outputs": [],
   "source": [
    "#Block 7: generating the sparse uncertainty set\n",
    "def uncertainty_sparse(N):\n",
    "    ranrow = lambda: (rand(1,dim,density = np.random.uniform(a,b))).A\n",
    "    l = []\n",
    "    for i in xrange(N):\n",
    "        v = ranrow()\n",
    "        v = v.flatten()\n",
    "        l.append(v)\n",
    "    return l"
   ]
  },
  {
   "cell_type": "code",
   "execution_count": null,
   "metadata": {
    "collapsed": true
   },
   "outputs": [],
   "source": [
    "#Block 8: selective greedy method for maximization\n",
    "def selective_greedyMAX(A):\n",
    "    \n",
    "    Z = np.copy(A)\n",
    "    \n",
    "    count = 0 #the iteration counter\n",
    "    start = time.clock() #time counter\n",
    "\n",
    "    while True:\n",
    "        \n",
    "        v = pwrmthd(Z)\n",
    "        count += 1\n",
    "        change = False\n",
    "        \n",
    "        for i in xrange(dim):\n",
    "            \n",
    "            l = np.dot(Z[i],v)\n",
    "            l = np.round(l,prec)\n",
    "        \n",
    "            for x in F[i]: #finding the vec. from the prod. set which maximizes the dot prod.\n",
    "                prod = np.dot(x,v)\n",
    "                prod = np.round(prod,prec)\n",
    "                \n",
    "                if (prod > l):# and (abs(prod - l) >= \\delta); see the Appendix\n",
    "                    # change (prod < l) for minimization\n",
    "                    l = prod\n",
    "                    Z[i] = x\n",
    "                    change = True\n",
    "            \n",
    "        if not change: #if no row was changed, we finish the procedure\n",
    "            break\n",
    "                \n",
    "    \n",
    "    run = np.round(time.clock() - start,2)\n",
    "    spect_radius = np.round(leading(Z),2)\n",
    "    \n",
    "    return spect_radius, count, run, (v > 0).all()\n",
    "    '''the last item checks if the final leading eigenvcetor is strictly positive; \n",
    "    omit it for minimization'''\n",
    "    "
   ]
  },
  {
   "cell_type": "code",
   "execution_count": null,
   "metadata": {
    "collapsed": true,
    "scrolled": true
   },
   "outputs": [],
   "source": [
    "#Block 9: running the code, for sparse case\n",
    "dim = 1000 #setting the dimension\n",
    "N = 100 #setting the cardinality of the uncertainty sets\n",
    "(a,b) = (0.09,0.16) #setting the interval from which density parameter take value\n",
    "F = [uncertainty_sparse(N) for i in xrange(dim)] #generating the product family F\n",
    "A = np.array([F[i][rndm(N)] for i in xrange(dim)]) #taking an arbitrary matrix from F\n",
    "G = selective_greedyMAX(A) #running the selective greedy method\n",
    "print G"
   ]
  }
 ],
 "metadata": {
  "kernelspec": {
   "display_name": "Python 2",
   "language": "python",
   "name": "python2"
  },
  "language_info": {
   "codemirror_mode": {
    "name": "ipython",
    "version": 2
   },
   "file_extension": ".py",
   "mimetype": "text/x-python",
   "name": "python",
   "nbconvert_exporter": "python",
   "pygments_lexer": "ipython2",
   "version": "2.7.13"
  }
 },
 "nbformat": 4,
 "nbformat_minor": 2
}
